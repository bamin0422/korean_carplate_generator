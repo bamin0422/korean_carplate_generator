import sys
!{sys.executable} -m pip install opencv-python image matplotlib