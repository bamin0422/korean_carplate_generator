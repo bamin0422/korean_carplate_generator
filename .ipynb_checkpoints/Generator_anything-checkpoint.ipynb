{
 "cells": [
  {
   "cell_type": "code",
   "execution_count": 1,
   "id": "embedded-polymer",
   "metadata": {},
   "outputs": [
    {
     "name": "stdout",
     "output_type": "stream",
     "text": [
      "Requirement already satisfied: opencv-python in c:\\users\\bamin\\appdata\\local\\programs\\python\\python39\\lib\\site-packages (4.5.1.48)\n",
      "Requirement already satisfied: image in c:\\users\\bamin\\appdata\\local\\programs\\python\\python39\\lib\\site-packages (1.5.33)\n",
      "Requirement already satisfied: matplotlib in c:\\users\\bamin\\appdata\\local\\programs\\python\\python39\\lib\\site-packages (3.3.4)\n",
      "Requirement already satisfied: pillow in c:\\users\\bamin\\appdata\\local\\programs\\python\\python39\\lib\\site-packages (from image) (8.1.0)\n",
      "Requirement already satisfied: django in c:\\users\\bamin\\appdata\\local\\programs\\python\\python39\\lib\\site-packages (from image) (3.1.6)\n",
      "Requirement already satisfied: six in c:\\users\\bamin\\appdata\\roaming\\python\\python39\\site-packages (from image) (1.15.0)\n",
      "Requirement already satisfied: numpy>=1.15 in c:\\users\\bamin\\appdata\\local\\programs\\python\\python39\\lib\\site-packages (from matplotlib) (1.20.1)\n",
      "Requirement already satisfied: kiwisolver>=1.0.1 in c:\\users\\bamin\\appdata\\local\\programs\\python\\python39\\lib\\site-packages (from matplotlib) (1.3.1)\n",
      "Requirement already satisfied: pyparsing!=2.0.4,!=2.1.2,!=2.1.6,>=2.0.3 in c:\\users\\bamin\\appdata\\local\\programs\\python\\python39\\lib\\site-packages (from matplotlib) (2.4.7)\n",
      "Requirement already satisfied: python-dateutil>=2.1 in c:\\users\\bamin\\appdata\\local\\programs\\python\\python39\\lib\\site-packages (from matplotlib) (2.8.1)\n",
      "Requirement already satisfied: cycler>=0.10 in c:\\users\\bamin\\appdata\\local\\programs\\python\\python39\\lib\\site-packages (from matplotlib) (0.10.0)\n",
      "Requirement already satisfied: pytz in c:\\users\\bamin\\appdata\\local\\programs\\python\\python39\\lib\\site-packages (from django->image) (2021.1)\n",
      "Requirement already satisfied: sqlparse>=0.2.2 in c:\\users\\bamin\\appdata\\local\\programs\\python\\python39\\lib\\site-packages (from django->image) (0.4.1)\n",
      "Requirement already satisfied: asgiref<4,>=3.2.10 in c:\\users\\bamin\\appdata\\local\\programs\\python\\python39\\lib\\site-packages (from django->image) (3.3.1)\n"
     ]
    }
   ],
   "source": [
    "import sys\n",
    "!{sys.executable} -m pip install opencv-python image matplotlib"
   ]
  },
  {
   "cell_type": "code",
   "execution_count": 1,
   "id": "parallel-commission",
   "metadata": {},
   "outputs": [],
   "source": [
    "from PIL import Image\n",
    "import os"
   ]
  },
  {
   "cell_type": "code",
   "execution_count": 5,
   "id": "female-century",
   "metadata": {},
   "outputs": [
    {
     "name": "stderr",
     "output_type": "stream",
     "text": [
      "'wget'은(는) 내부 또는 외부 명령, 실행할 수 있는 프로그램, 또는\n",
      "배치 파일이 아닙니다.\n",
      "'unzip'은(는) 내부 또는 외부 명령, 실행할 수 있는 프로그램, 또는\n",
      "배치 파일이 아닙니다.\n",
      "'rm'은(는) 내부 또는 외부 명령, 실행할 수 있는 프로그램, 또는\n",
      "배치 파일이 아닙니다.\n"
     ]
    },
    {
     "ename": "FileNotFoundError",
     "evalue": "[WinError 3] 지정된 경로를 찾을 수 없습니다: 'bgs'",
     "output_type": "error",
     "traceback": [
      "\u001b[1;31m---------------------------------------------------------------------------\u001b[0m",
      "\u001b[1;31mFileNotFoundError\u001b[0m                         Traceback (most recent call last)",
      "\u001b[1;32m<ipython-input-5-1fd56bd14222>\u001b[0m in \u001b[0;36m<module>\u001b[1;34m\u001b[0m\n\u001b[0;32m      3\u001b[0m     \u001b[0mget_ipython\u001b[0m\u001b[1;33m(\u001b[0m\u001b[1;33m)\u001b[0m\u001b[1;33m.\u001b[0m\u001b[0msystem\u001b[0m\u001b[1;33m(\u001b[0m\u001b[1;34m'unzip /tmp/bgs-reduced.zip |wc -l'\u001b[0m\u001b[1;33m)\u001b[0m\u001b[1;33m\u001b[0m\u001b[1;33m\u001b[0m\u001b[0m\n\u001b[0;32m      4\u001b[0m     \u001b[0mget_ipython\u001b[0m\u001b[1;33m(\u001b[0m\u001b[1;33m)\u001b[0m\u001b[1;33m.\u001b[0m\u001b[0msystem\u001b[0m\u001b[1;33m(\u001b[0m\u001b[1;34m'rm /tmp/bgs-reduced.zip'\u001b[0m\u001b[1;33m)\u001b[0m\u001b[1;33m\u001b[0m\u001b[1;33m\u001b[0m\u001b[0m\n\u001b[1;32m----> 5\u001b[1;33m \u001b[0mbgs\u001b[0m \u001b[1;33m=\u001b[0m \u001b[0mos\u001b[0m\u001b[1;33m.\u001b[0m\u001b[0mlistdir\u001b[0m\u001b[1;33m(\u001b[0m\u001b[1;34m'bgs'\u001b[0m\u001b[1;33m)\u001b[0m\u001b[1;33m\u001b[0m\u001b[1;33m\u001b[0m\u001b[0m\n\u001b[0m\u001b[0;32m      6\u001b[0m \u001b[0mprint\u001b[0m\u001b[1;33m(\u001b[0m\u001b[1;34m\"{} images were downloaded.\"\u001b[0m\u001b[1;33m.\u001b[0m\u001b[0mformat\u001b[0m\u001b[1;33m(\u001b[0m\u001b[0mlen\u001b[0m\u001b[1;33m(\u001b[0m\u001b[0mbgs\u001b[0m\u001b[1;33m)\u001b[0m\u001b[1;33m)\u001b[0m\u001b[1;33m)\u001b[0m\u001b[1;33m\u001b[0m\u001b[1;33m\u001b[0m\u001b[0m\n",
      "\u001b[1;31mFileNotFoundError\u001b[0m: [WinError 3] 지정된 경로를 찾을 수 없습니다: 'bgs'"
     ]
    }
   ],
   "source": [
    "if os.path.exists('background')==False:\n",
    "    !wget https://s3.ap-northeast-2.amazonaws.com/leon-shared/bgs/bgs-reduced.zip -O /tmp/bgs-reduced.zip\n",
    "    !unzip /tmp/bgs-reduced.zip |wc -l\n",
    "    !rm /tmp/bgs-reduced.zip\n",
    "bgs = os.listdir('background')\n",
    "print(\"{} images were downloaded.\".format(len(bgs)))"
   ]
  },
  {
   "cell_type": "code",
   "execution_count": null,
   "id": "collaborative-ability",
   "metadata": {},
   "outputs": [],
   "source": []
  }
 ],
 "metadata": {
  "kernelspec": {
   "display_name": "Python 3",
   "language": "python",
   "name": "python3"
  },
  "language_info": {
   "codemirror_mode": {
    "name": "ipython",
    "version": 3
   },
   "file_extension": ".py",
   "mimetype": "text/x-python",
   "name": "python",
   "nbconvert_exporter": "python",
   "pygments_lexer": "ipython3",
   "version": "3.9.1"
  }
 },
 "nbformat": 4,
 "nbformat_minor": 5
}
